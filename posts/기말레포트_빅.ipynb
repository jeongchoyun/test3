{
 "cells": [
  {
   "cell_type": "raw",
   "id": "c803366b-25a6-4694-bc6f-4d5adfce6af7",
   "metadata": {},
   "source": [
    "---\n",
    "title: \"빅데이터 분석 기말 과제\"\n",
    "author: \"정초윤\"\n",
    "date: \"12/22/2023\"\n",
    "---"
   ]
  },
  {
   "cell_type": "code",
   "execution_count": 47,
   "id": "7c1e144d-9488-45db-aea5-bb5bf7f4693e",
   "metadata": {
    "tags": []
   },
   "outputs": [],
   "source": [
    "import numpy as np\n",
    "import pandas as pd\n",
    "import matplotlib.pyplot as plt\n",
    "import seaborn as sns\n",
    "import sklearn.metrics"
   ]
  },
  {
   "cell_type": "markdown",
   "id": "d7966f07-bc0d-48e8-aa8f-c72d54415bbb",
   "metadata": {},
   "source": [
    "1.  의사결정나무의 수동구현은 위에서 제시된 모듈 (numpy, pandas,\n",
    "    sklearn.metrics, matplotlib, seaborn) 만을 사용해야하며 이외의\n",
    "    모듈을 사용할 경우 0점 처리함.\n",
    "2.  True/False를 판단하는 문제는 답만 써도 무방함. (이유를 써도\n",
    "    상관없음)\n",
    "3.  Treu/False의 판단 문제는 모두 맞출 경우만 정답으로 인정함. 다만\n",
    "    틀린이유가 사소하다고 판단할경우 감점없이 만점처리함.\n",
    "\n",
    "# 1. 의사결정나무의 수동구현 (70점)"
   ]
  },
  {
   "cell_type": "code",
   "execution_count": 114,
   "id": "c487030d-5f91-4ff0-92d5-791961eaf3fd",
   "metadata": {},
   "outputs": [
    {
     "data": {
      "text/html": [
       "<div>\n",
       "<style scoped>\n",
       "    .dataframe tbody tr th:only-of-type {\n",
       "        vertical-align: middle;\n",
       "    }\n",
       "\n",
       "    .dataframe tbody tr th {\n",
       "        vertical-align: top;\n",
       "    }\n",
       "\n",
       "    .dataframe thead th {\n",
       "        text-align: right;\n",
       "    }\n",
       "</style>\n",
       "<table border=\"1\" class=\"dataframe\">\n",
       "  <thead>\n",
       "    <tr style=\"text-align: right;\">\n",
       "      <th></th>\n",
       "      <th>weight</th>\n",
       "      <th>sex</th>\n",
       "      <th>height</th>\n",
       "    </tr>\n",
       "  </thead>\n",
       "  <tbody>\n",
       "    <tr>\n",
       "      <th>0</th>\n",
       "      <td>NaN</td>\n",
       "      <td>male</td>\n",
       "      <td>164.227738</td>\n",
       "    </tr>\n",
       "    <tr>\n",
       "      <th>1</th>\n",
       "      <td>NaN</td>\n",
       "      <td>male</td>\n",
       "      <td>165.798660</td>\n",
       "    </tr>\n",
       "    <tr>\n",
       "      <th>2</th>\n",
       "      <td>75.219015</td>\n",
       "      <td>male</td>\n",
       "      <td>165.528672</td>\n",
       "    </tr>\n",
       "    <tr>\n",
       "      <th>3</th>\n",
       "      <td>NaN</td>\n",
       "      <td>male</td>\n",
       "      <td>163.706442</td>\n",
       "    </tr>\n",
       "    <tr>\n",
       "      <th>4</th>\n",
       "      <td>81.476750</td>\n",
       "      <td>male</td>\n",
       "      <td>165.501403</td>\n",
       "    </tr>\n",
       "    <tr>\n",
       "      <th>...</th>\n",
       "      <td>...</td>\n",
       "      <td>...</td>\n",
       "      <td>...</td>\n",
       "    </tr>\n",
       "    <tr>\n",
       "      <th>275</th>\n",
       "      <td>49.308558</td>\n",
       "      <td>female</td>\n",
       "      <td>148.587771</td>\n",
       "    </tr>\n",
       "    <tr>\n",
       "      <th>276</th>\n",
       "      <td>NaN</td>\n",
       "      <td>male</td>\n",
       "      <td>164.822474</td>\n",
       "    </tr>\n",
       "    <tr>\n",
       "      <th>277</th>\n",
       "      <td>NaN</td>\n",
       "      <td>male</td>\n",
       "      <td>163.907671</td>\n",
       "    </tr>\n",
       "    <tr>\n",
       "      <th>278</th>\n",
       "      <td>NaN</td>\n",
       "      <td>male</td>\n",
       "      <td>161.674476</td>\n",
       "    </tr>\n",
       "    <tr>\n",
       "      <th>279</th>\n",
       "      <td>53.714772</td>\n",
       "      <td>female</td>\n",
       "      <td>146.775975</td>\n",
       "    </tr>\n",
       "  </tbody>\n",
       "</table>\n",
       "<p>280 rows × 3 columns</p>\n",
       "</div>"
      ],
      "text/plain": [
       "        weight     sex      height\n",
       "0          NaN    male  164.227738\n",
       "1          NaN    male  165.798660\n",
       "2    75.219015    male  165.528672\n",
       "3          NaN    male  163.706442\n",
       "4    81.476750    male  165.501403\n",
       "..         ...     ...         ...\n",
       "275  49.308558  female  148.587771\n",
       "276        NaN    male  164.822474\n",
       "277        NaN    male  163.907671\n",
       "278        NaN    male  161.674476\n",
       "279  53.714772  female  146.775975\n",
       "\n",
       "[280 rows x 3 columns]"
      ]
     },
     "execution_count": 114,
     "metadata": {},
     "output_type": "execute_result"
    }
   ],
   "source": [
    "df_train = pd.read_csv('https://raw.githubusercontent.com/guebin/MP2023/master/posts/height_train.csv')\n",
    "df_train"
   ]
  },
  {
   "cell_type": "markdown",
   "id": "b2aad5b6-c019-4eff-b7be-f8316b2077fd",
   "metadata": {},
   "source": [
    "`(1)` `df_train`에서 “sex”,“weight”를 설명변수로 “height”을 반응변수로\n",
    "설정하라. 결측치가 있을 경우 결측값에 일괄적으로 -99로 채워넣어라."
   ]
  },
  {
   "cell_type": "code",
   "execution_count": 115,
   "id": "4093133d-1c3d-46a4-948d-cca9a580a7cc",
   "metadata": {},
   "outputs": [],
   "source": [
    "X = df_train.loc[:,'weight':'sex']\n",
    "X = X.fillna(-99)\n",
    "y = df_train['height']"
   ]
  },
  {
   "cell_type": "markdown",
   "id": "182d94bb-b3cd-457a-93c0-0cbaddcef16b",
   "metadata": {},
   "source": [
    "`(2)` `height`열의 평균으로 `height`의 값을 추정하라. 추정값을 `yhat`에\n",
    "저장하라. `sklearn.metrics.r2_score()`을 이용하여 `r2_score`를 계산하라."
   ]
  },
  {
   "cell_type": "code",
   "execution_count": 116,
   "id": "80631d04-b636-4127-9a51-fa4079e361dc",
   "metadata": {},
   "outputs": [
    {
     "data": {
      "text/plain": [
       "0.0"
      ]
     },
     "execution_count": 116,
     "metadata": {},
     "output_type": "execute_result"
    }
   ],
   "source": [
    "yhat = np.full(len(y),y.mean())\n",
    "sklearn.metrics.r2_score(y,yhat)"
   ]
  },
  {
   "cell_type": "markdown",
   "id": "7677b9c1-45eb-4442-ad56-cf4f393fad45",
   "metadata": {},
   "source": [
    "`(3)` 아래를 계산하라.\n",
    "\n",
    "-   `r` = `y` - `yhat`\n",
    "\n",
    "여기에서 `yhat`은 `(2)`의 결과로 얻어진 적합값을 의미한다. 이제 `r`에\n",
    "Weight를 기준으로 의사결정나무를 적용하여 아래와 같은 분할을 만들어라.\n",
    "\n",
    "-   `X['weight']` \\< `c`\n",
    "-   `X['weight']` \\>= `c`\n",
    "\n",
    "`sklearn.metrics.r2_score()`를 이용하여 최적의 $c$값을 구하여라."
   ]
  },
  {
   "cell_type": "code",
   "execution_count": 117,
   "id": "1c4447c8-fc3c-4c0b-82c2-7ac1e81427d9",
   "metadata": {},
   "outputs": [
    {
     "data": {
      "text/plain": [
       "0    6.241209\n",
       "1    7.812131\n",
       "2    7.542143\n",
       "3    5.719914\n",
       "4    7.514874\n",
       "Name: height, dtype: float64"
      ]
     },
     "execution_count": 117,
     "metadata": {},
     "output_type": "execute_result"
    }
   ],
   "source": [
    "r = y - yhat;r.head()"
   ]
  },
  {
   "cell_type": "code",
   "execution_count": 118,
   "id": "009bc7b6-47a3-4a35-9aab-3d825d0019d5",
   "metadata": {},
   "outputs": [],
   "source": [
    "def fit_predict(X,r,c):\n",
    "    X = np.array(X).reshape(-1)\n",
    "    r = np.array(r)\n",
    "    rhat = r*0\n",
    "    rhat[X< c] = r[X< c].mean()\n",
    "    rhat[X>= c] = r[X >= c].mean()\n",
    "    return rhat"
   ]
  },
  {
   "cell_type": "code",
   "execution_count": 119,
   "id": "8a3ad00d-24f4-4043-8085-dedec73b9b69",
   "metadata": {},
   "outputs": [
    {
     "data": {
      "text/plain": [
       "[<matplotlib.lines.Line2D at 0x7fd4e10dd930>]"
      ]
     },
     "execution_count": 119,
     "metadata": {},
     "output_type": "execute_result"
    },
    {
     "data": {
      "image/png": "[encoded data removed]",
      "text/plain": [
       "<Figure size 640x480 with 1 Axes>"
      ]
     },
     "metadata": {},
     "output_type": "display_data"
    }
   ],
   "source": [
    "cuts = np.arange(X['weight'].min()+1, X['weight'].max())\n",
    "score = np.array([sklearn.metrics.r2_score(r,fit_predict(X['weight'],r,c)) for c in cuts])\n",
    "plt.plot(cuts,score)"
   ]
  },
  {
   "cell_type": "code",
   "execution_count": 120,
   "id": "322e25ad-ecb1-4814-ab0d-419f8c65ee94",
   "metadata": {},
   "outputs": [
    {
     "data": {
      "text/plain": [
       "(-98.0,\n",
       " array([ 6.86933485,  6.86933485, -5.86850461,  6.86933485, -5.86850461]))"
      ]
     },
     "execution_count": 120,
     "metadata": {},
     "output_type": "execute_result"
    }
   ],
   "source": [
    "c = cuts[score.argmax()]\n",
    "rhat = fit_predict(X['weight'],r,c)\n",
    "c, rhat[:5]"
   ]
  },
  {
   "cell_type": "markdown",
   "id": "99873618-efab-4bd5-ae4b-9e6a83b1058b",
   "metadata": {},
   "source": [
    "`(4)` `(3)`의 결과로 얻어진 아래의 분할을 고려하자.\n",
    "\n",
    "``` python\n",
    "X['weight'] >= c\n",
    "```\n",
    "\n",
    "이 분할에서 depth=2 로 나무를 성장하고자 한다. 성장이가능한가? 성장이\n",
    "가능하다면 이때 나무를 성장시키기 위한 변수로 weigth와 sex중 무엇이\n",
    "적절한가? 왜 그렇다고 생각하는가?\n",
    "\n",
    "`-` 아래 결과 weight, sex의 r2_score가 같게 나왔다."
   ]
  },
  {
   "cell_type": "markdown",
   "id": "c7603861-4548-49ad-b99e-4c1b4cf8e9f0",
   "metadata": {},
   "source": [
    "[1] weight 분할"
   ]
  },
  {
   "cell_type": "code",
   "execution_count": 121,
   "id": "b4fea2ec-53ac-4525-96a9-c8806f670725",
   "metadata": {},
   "outputs": [],
   "source": [
    "X1 = X[X['weight'] >= c]['weight']\n",
    "y1 = y[X['weight'] >= c]\n",
    "y1hat = np.full(len(y1),y1.mean())\n",
    "r1 = y1 - y1hat"
   ]
  },
  {
   "cell_type": "code",
   "execution_count": 122,
   "id": "bf0dc6f1-0dec-4e79-a75b-d14026552f89",
   "metadata": {},
   "outputs": [
    {
     "data": {
      "text/plain": [
       "[<matplotlib.lines.Line2D at 0x7fd4e1147fd0>]"
      ]
     },
     "execution_count": 122,
     "metadata": {},
     "output_type": "execute_result"
    },
    {
     "data": {
      "image/png": "[encoded data removed]",
      "text/plain": [
       "<Figure size 640x480 with 1 Axes>"
      ]
     },
     "metadata": {},
     "output_type": "display_data"
    }
   ],
   "source": [
    "cuts1 = np.arange(X1.min()+0.1, X1.max());cuts1\n",
    "score1 = np.array([sklearn.metrics.r2_score(r1,fit_predict(X1,r1,c)) for c in cuts1])\n",
    "plt.plot(cuts1,score1)"
   ]
  },
  {
   "cell_type": "code",
   "execution_count": 123,
   "id": "92af3f59-228d-4c01-a7b1-00e9946ce951",
   "metadata": {},
   "outputs": [
    {
     "data": {
      "text/plain": [
       "(56.38466063107373,\n",
       " array([12.99170343, 12.99170343, -4.68169493, 12.99170343, -4.68169493]))"
      ]
     },
     "execution_count": 123,
     "metadata": {},
     "output_type": "execute_result"
    }
   ],
   "source": [
    "score_weight = score1.max()\n",
    "c1 = cuts1[score1.argmax()]\n",
    "rhat1 = fit_predict(X1,r1,c1)\n",
    "c1, rhat1[:5]"
   ]
  },
  {
   "cell_type": "markdown",
   "id": "05bb5fad-eba6-420b-8edb-ddeeaf477af9",
   "metadata": {},
   "source": [
    "[2] sex 분할"
   ]
  },
  {
   "cell_type": "code",
   "execution_count": 124,
   "id": "50b00bde-74ba-448e-a01f-33e837e95df8",
   "metadata": {},
   "outputs": [],
   "source": [
    "X2 = X[X['weight'] >= c]['sex']"
   ]
  },
  {
   "cell_type": "code",
   "execution_count": 125,
   "id": "7b7017dc-4764-4405-be6b-685390ff7a1b",
   "metadata": {},
   "outputs": [],
   "source": [
    "def fit_predict_sex(X,r):\n",
    "    X = np.array(X).reshape(-1)\n",
    "    r = np.array(r)\n",
    "    rhat = r*0\n",
    "    rhat[X == 'female'] = r[X == 'female'].mean()\n",
    "    rhat[X == 'male'] = r[X == 'male'].mean()\n",
    "    return rhat"
   ]
  },
  {
   "cell_type": "code",
   "execution_count": 126,
   "id": "8d553bfd-2b2b-4fe2-926e-a35f92100388",
   "metadata": {},
   "outputs": [],
   "source": [
    "score_sex = sklearn.metrics.r2_score(r1, fit_predict_sex(X2,r1))"
   ]
  },
  {
   "cell_type": "code",
   "execution_count": 127,
   "id": "169d108b-e6fd-4ff3-9d6f-e89a0ab75beb",
   "metadata": {},
   "outputs": [
    {
     "data": {
      "text/plain": [
       "(0.9522972193365125, 0.9522972193365125)"
      ]
     },
     "execution_count": 127,
     "metadata": {},
     "output_type": "execute_result"
    }
   ],
   "source": [
    "score_weight, score_sex"
   ]
  },
  {
   "cell_type": "markdown",
   "id": "dc0ed807-0a84-4f6f-b6f0-c17abfbcf702",
   "metadata": {},
   "source": [
    "\n",
    "`(5)` `(3)`의 결과로 얻어진 아래의 분할을 고려하자.\n",
    "\n",
    "``` python\n",
    "X['weight'] < c\n",
    "```\n",
    "\n",
    "이 분할에서 depth=2 로 나무를 성장하고자 한다. 성장이가능한가? 성장이\n",
    "가능하다면 이때 나무를 성장시키기 위한 변수로 weigth와 sex중 무엇이\n",
    "적절한가? 왜 그렇다고 생각하는가?"
   ]
  },
  {
   "cell_type": "markdown",
   "id": "be8d5682-224e-4350-a499-0664e6fb5766",
   "metadata": {},
   "source": [
    "`-` -99 이하인 경우, -99인 값이 하나이고 성별로 봤을 때도 남자 뿐이여서 성장 불가능하다."
   ]
  },
  {
   "cell_type": "markdown",
   "id": "cd64e2e2-07a4-4090-8528-e7c756979161",
   "metadata": {},
   "source": [
    "\n",
    "`(6)` `(3)`-`(5)`의 결과를 이용하여 `depth=2`인 의사결정나무에 의한\n",
    "`r`의 적합값을 구하여라. 이를 이용하여 `yhat`을 update하라. 이때\n",
    "학습률은 0.1로 설정하고 업데이트된 결과를 `yhat2`로 저장하라.\n",
    "\n",
    "\n",
    "그리고`sklearn.metrics.r2_score()`을 이용하여 `y`와 `yhat2`의\n",
    "`r2_score`를 계산하라.\n",
    "\n",
    "힌트: 아래의 알고리즘이 동치임을 이용하라.\n",
    "\n",
    "-   `yhat2` $\\leftarrow$ `yhat` + 학습률 $\\times$ `rhat`\n",
    "-   `r2` $\\leftarrow$ `r` - 학습률 $\\times$ `rhat`, where `r2` = `y` -\n",
    "    `yhat2`"
   ]
  },
  {
   "cell_type": "code",
   "execution_count": 132,
   "id": "854c3c98-2fd5-44e0-aed3-8e2038ebf63a",
   "metadata": {},
   "outputs": [
    {
     "data": {
      "text/plain": [
       "(array([ 6.24120927,  7.81213147, 13.41064801,  5.71991353, 13.38337907]),\n",
       " array([ 6.86933485,  6.86933485, 12.99170343,  6.86933485, 12.99170343]),\n",
       " array([164.22773753, 165.79865973, 152.11802365, 163.7064418 ,\n",
       "        152.11802365]))"
      ]
     },
     "execution_count": 132,
     "metadata": {},
     "output_type": "execute_result"
    }
   ],
   "source": [
    "# r[X['weight'] < c]\n",
    "r[X['weight'] >= c] = r1\n",
    "r = np.array(r)\n",
    "\n",
    "# rhat[X['weight'] < c]\n",
    "rhat[X['weight'] >= c] = rhat1\n",
    "\n",
    "\n",
    "yhat1 = y[X['weight'] < c] # 몸무게가 -99인 사람들의 평균 키. 위에서 따로 구하지 않았음.\n",
    "\n",
    "yhat[X['weight'] < c] = yhat1\n",
    "yhat[X['weight'] >= c] = y1hat\n",
    "\n",
    "r[:5], rhat[:5], yhat[:5]"
   ]
  },
  {
   "cell_type": "code",
   "execution_count": 137,
   "id": "476db857-e2ed-40d8-8391-d095f399c75c",
   "metadata": {},
   "outputs": [],
   "source": [
    "yhat2 = yhat + 0.1*rhat"
   ]
  },
  {
   "cell_type": "code",
   "execution_count": 138,
   "id": "08152dba-1b16-4d7a-99d0-474d607c84e1",
   "metadata": {},
   "outputs": [
    {
     "data": {
      "text/plain": [
       "0.6247857411378884"
      ]
     },
     "execution_count": 138,
     "metadata": {},
     "output_type": "execute_result"
    }
   ],
   "source": [
    "sklearn.metrics.r2_score(y,yhat2)"
   ]
  },
  {
   "cell_type": "markdown",
   "id": "740f1430-a9c3-4c1b-b0b4-3b057e41a204",
   "metadata": {},
   "source": [
    "\n",
    "`(7)` `(6)`에서 학습률이 0.5일 경우 `y`와 `yhat2`의 `r2_score`를\n",
    "계산하라."
   ]
  },
  {
   "cell_type": "code",
   "execution_count": 139,
   "id": "f1ae945f-9aab-4c18-a4a5-735496b7164c",
   "metadata": {},
   "outputs": [],
   "source": [
    "yhat3 = yhat + 0.5*rhat"
   ]
  },
  {
   "cell_type": "code",
   "execution_count": 140,
   "id": "ab2e8dff-8f5c-4e9e-b56b-88eb8e53e3ac",
   "metadata": {},
   "outputs": [
    {
     "data": {
      "text/plain": [
       "0.7983541219186371"
      ]
     },
     "execution_count": 140,
     "metadata": {},
     "output_type": "execute_result"
    }
   ],
   "source": [
    "sklearn.metrics.r2_score(y,yhat3)"
   ]
  },
  {
   "cell_type": "markdown",
   "id": "b5392ded-3e7f-4e7f-a982-18c4a4a5557b",
   "metadata": {},
   "source": [
    "# 2. 다음을 읽고 참거짓을 판단하라. (30점)\n",
    "\n",
    "`(1)` 의사결정나무에서 `max_depth`의 설정값이 커질수록 오버피팅의 위험이\n",
    "있다. 답) 네\n",
    "\n",
    "`(2)` 배깅의 설명변수중 일부를 drop 하며 나무를 성장시킨다. 답) 네. 랜덤포레스트\n",
    "\n",
    "`(3)` 랜덤포레스트는 나무가지를 랜덤으로 성장시키기도 하고 파괴시키기도\n",
    "한다. 답) 아니요\n",
    "\n",
    "`(4)` 부스팅은 여러가지 의사결정나무의 적합값을 평균내는 방식으로\n",
    "최종예측을 한다. 답) 네\n",
    "\n",
    "`(5)` `Accuracy`는 분류문제에서 언제나 가장 합리적인 평가지표이다. 답) 아니요\n",
    "\n",
    "`(6)` 모듈49의 아래그림은 “sex == ‘male’” 일 경우 “sex=‘female’”\n",
    "일때보다 항상(=모든 관측치에 대하여) 키의 예측값을 +2.1 만큼 보정해야\n",
    "한다는 것을 의미한다. 답) 아니요\n",
    "\n",
    "![](https://guebin.github.io/MP2023/posts/13wk-49_files/figure-html/cell-14-output-2.png)\n",
    "\n",
    "`(7)` 모듈54에서 제시된 아래의 그림은 사실 전혀 고려할 필요가 없다. 답) 아니요..?? 전혀까지는 아니고 참고용으로만?\n",
    "\n",
    "![](https://guebin.github.io/MP2023/posts/13wk-54_files/figure-html/cell-6-output-6.png)\n",
    "\n",
    "왜냐하면 Exercise는 범주형, Weight_Loss는 연속형이므로 correlation값은\n",
    "의미가 없기 때문이다. 답) 네. 실제로 상관관계가 있어도 0에 가까운 값이 나올 수 있기 때문에\n",
    "\n",
    "`(8)` 시계열분석에서 `static_feature`란 이미 알고있는 미래의\n",
    "시계열자료를 의미한다. 답) 아니요\n",
    "\n",
    "`(9)` 모듈59에서 소개된 자전거대여자료와 같이 시간특징이 포함된 자료는\n",
    "언제나 (과거를 기반으로 미래를 예측하는) 시계열분석을 하는 것이\n",
    "올바르다. 답) 아니요\n",
    "\n",
    "`(10)` 모듈60에서 소개된 하이퍼파라메터 설정법을 이용하면 때때로 모형의\n",
    "적합도를 높일 수 있다. 답) 네"
   ]
  }
 ],
 "metadata": {
  "kernelspec": {
   "display_name": "Python 3 (ipykernel)",
   "language": "python",
   "name": "python3"
  },
  "language_info": {
   "codemirror_mode": {
    "name": "ipython",
    "version": 3
   },
   "file_extension": ".py",
   "mimetype": "text/x-python",
   "name": "python",
   "nbconvert_exporter": "python",
   "pygments_lexer": "ipython3",
   "version": "3.10.13"
  }
 },
 "nbformat": 4,
 "nbformat_minor": 5
}
